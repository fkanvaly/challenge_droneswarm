{
 "cells": [
  {
   "cell_type": "code",
   "execution_count": 26,
   "metadata": {},
   "outputs": [],
   "source": [
    "from matplotlib import pyplot as plt\n",
    "import time\n",
    "import numpy as np"
   ]
  },
  {
   "cell_type": "markdown",
   "metadata": {},
   "source": [
    "# Controle de l'essaim de drône"
   ]
  },
  {
   "cell_type": "markdown",
   "metadata": {},
   "source": [
    "Une fois l'environnement de simulation lancée sur gazebo, vous allez utiliser la classe **SwarmDrone** pour envoyer des instruction singulières ou a des groupées."
   ]
  },
  {
   "cell_type": "markdown",
   "metadata": {},
   "source": [
    "## Initialisation de la flotte"
   ]
  },
  {
   "cell_type": "code",
   "execution_count": 14,
   "metadata": {},
   "outputs": [],
   "source": [
    "from drone_swarm import DroneSwarm"
   ]
  },
  {
   "cell_type": "code",
   "execution_count": 3,
   "metadata": {},
   "outputs": [],
   "source": [
    "swarm = DroneSwarm()"
   ]
  },
  {
   "cell_type": "markdown",
   "metadata": {},
   "source": [
    "#### Décollage de l'ensemble de la flotte"
   ]
  },
  {
   "cell_type": "code",
   "execution_count": 4,
   "metadata": {},
   "outputs": [
    {
     "name": "stdout",
     "output_type": "stream",
     "text": [
      "drone1 takeoff cmd published\n",
      "drone2 takeoff cmd published\n",
      "drone3 takeoff cmd published\n",
      "drone4 takeoff cmd published\n",
      "drone5 takeoff cmd published\n"
     ]
    }
   ],
   "source": [
    "all_swarm =range(5)\n",
    "swarm.take_off(all_swarm)"
   ]
  },
  {
   "cell_type": "markdown",
   "metadata": {},
   "source": [
    "#### Atterissage de l'ensemble de la flotte"
   ]
  },
  {
   "cell_type": "code",
   "execution_count": 4,
   "metadata": {},
   "outputs": [
    {
     "name": "stdout",
     "output_type": "stream",
     "text": [
      "drone1 land cmd published\n",
      "drone2 land cmd published\n",
      "drone3 land cmd published\n",
      "drone4 land cmd published\n",
      "drone5 land cmd published\n"
     ]
    }
   ],
   "source": [
    "swarm.land(all_swarm)"
   ]
  },
  {
   "cell_type": "markdown",
   "metadata": {},
   "source": [
    "#### Vision de la flotte"
   ]
  },
  {
   "cell_type": "code",
   "execution_count": 23,
   "metadata": {},
   "outputs": [
    {
     "data": {
      "text/plain": [
       "<matplotlib.image.AxesImage at 0x7fb59bec6b70>"
      ]
     },
     "execution_count": 23,
     "metadata": {},
     "output_type": "execute_result"
    },
    {
     "data": {
      "image/png": "[encoded data removed]",
      "text/plain": [
       "<Figure size 432x288 with 1 Axes>"
      ]
     },
     "metadata": {},
     "output_type": "display_data"
    }
   ],
   "source": [
    "plt.imshow( swarm.getView(all_swarm)[0] )"
   ]
  },
  {
   "cell_type": "markdown",
   "metadata": {},
   "source": [
    "#### Controle Dynamique"
   ]
  },
  {
   "cell_type": "markdown",
   "metadata": {},
   "source": [
    "La classe SwarmDrone permet de faire des mouvement basique : **up/down, foreward/backward, right/left, clockwise/counter_clockwise**"
   ]
  },
  {
   "cell_type": "code",
   "execution_count": 32,
   "metadata": {},
   "outputs": [
    {
     "name": "stdout",
     "output_type": "stream",
     "text": [
      "down(val=5)\n",
      "down(val=5)\n",
      "down(val=5)\n",
      "down(val=5)\n",
      "down(val=5)\n",
      "forward(val=5)\n",
      "forward(val=5)\n",
      "forward(val=5)\n",
      "forward(val=5)\n",
      "forward(val=5)\n"
     ]
    }
   ],
   "source": [
    "vitesse = 5\n",
    "\n",
    "swarm.down(all_swarm, vitesse)\n",
    "time.sleep(1); swarm.stop(all_swarm)\n",
    "\n",
    "swarm.forward(all_swarm, vitesse)\n",
    "time.sleep(1); swarm.stop(all_swarm)"
   ]
  },
  {
   "cell_type": "markdown",
   "metadata": {},
   "source": [
    "Il est également possible de faire des mouvement complexes"
   ]
  },
  {
   "cell_type": "code",
   "execution_count": 34,
   "metadata": {},
   "outputs": [],
   "source": [
    "start=time.time()\n",
    "while(time.time()-start<10):\n",
    "    swarm.linearVelocity(all_swarm, [np.cos(time.time()), np.sin(time.time()), 0])\n",
    "    \n",
    "swarm.stop(all_swarm)"
   ]
  },
  {
   "cell_type": "code",
   "execution_count": 35,
   "metadata": {},
   "outputs": [
    {
     "name": "stdout",
     "output_type": "stream",
     "text": [
      "drone1 land cmd published\n",
      "drone2 land cmd published\n",
      "drone3 land cmd published\n",
      "drone4 land cmd published\n",
      "drone5 land cmd published\n"
     ]
    }
   ],
   "source": [
    "swarm.turn_off(all_swarm)"
   ]
  },
  {
   "cell_type": "markdown",
   "metadata": {},
   "source": [
    "# à toi de jouer !!"
   ]
  }
 ],
 "metadata": {
  "kernelspec": {
   "display_name": "Python 3",
   "language": "python",
   "name": "python3"
  },
  "language_info": {
   "codemirror_mode": {
    "name": "ipython",
    "version": 3
   },
   "file_extension": ".py",
   "mimetype": "text/x-python",
   "name": "python",
   "nbconvert_exporter": "python",
   "pygments_lexer": "ipython3",
   "version": "3.6.7"
  }
 },
 "nbformat": 4,
 "nbformat_minor": 2
}
